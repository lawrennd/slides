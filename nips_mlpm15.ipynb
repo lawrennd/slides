{
 "cells": [
  {
   "cell_type": "markdown",
   "metadata": {
    "slideshow": {
     "slide_type": "slide"
    }
   },
   "source": [
    "<p class=\"talk-title\">The NIPS Experiment</p>\n",
    "\n",
    "<p class=\"talk-subtitle\">Examining the Repeatability of Peer Review</p>\n",
    "\n",
    "\n",
    "<center>\n",
    "\n",
    "<center><p class=\"gap05\"></p>\n",
    "<h3>[Neil Lawrence](http://inverseprobability.com/) [@lawrennd](http://twitter.com/lawrennd)</h3>\n",
    "<h3>with Corinna Cortes (Google, NYC)</h3>\n",
    "<h3>MLPM Summer School</h3>\n",
    "<h3>21st September 2015</h3></center>\n",
    "\n",
    "<p class=\"gap2\"></p>\n",
    "</center>"
   ]
  },
  {
   "cell_type": "code",
   "execution_count": 1,
   "metadata": {
    "collapsed": false,
    "slideshow": {
     "slide_type": "skip"
    }
   },
   "outputs": [
    {
     "data": {
      "text/html": [
       "<style>\n",
       "/*\n",
       "   Simple CSS styling for using IPython Notebooks for talks.\n",
       "\n",
       "   Author: Fernando Perez <fernando.perez@berkeley.edu>\n",
       "*/\n",
       "\n",
       ".talk-title\n",
       "{\n",
       "  color: #498AF3;\n",
       "  font-size: 220%;\n",
       "  font-weight:bold;\n",
       "  line-height: 1.2;\n",
       "  margin: 10px 50px 10px;\n",
       "  }\n",
       "\n",
       ".talk-subtitle\n",
       "{\n",
       "  color: #386BBC;\n",
       "  font-size: 150%;\n",
       "  font-weight:bold;\n",
       "  line-height: 1.2;\n",
       "  margin: 20px 50px 20px;\n",
       "  }\n",
       "\n",
       ".slide-header, p.slide-header\n",
       "{\n",
       "  color: #498AF3;\n",
       "  font-size: 180%;\n",
       "  font-weight:bold;\n",
       "  margin: 0px 20px 10px;\n",
       "  page-break-before: always;\n",
       "  text-align: center;\n",
       "  }\n",
       "\n",
       ".rendered_html\n",
       "{\n",
       "  color: #2C5494;\n",
       "  font-family: Ubuntu;\n",
       "  font-size: 170%;\n",
       "  line-height: 1.1;\n",
       "  margin: 0.5em 0;\n",
       "  }\n",
       "\n",
       ".rendered_html h1\n",
       "{\n",
       "  color: #498AF3;\n",
       "  line-height: 1.2;\n",
       "  margin: 0.15em 0em 0.5em;\n",
       "  page-break-before: always;\n",
       "  text-align: center;\n",
       "  }\n",
       "\n",
       "\n",
       ".rendered_html h2\n",
       "{\n",
       "  color: #386BBC;\n",
       "  line-height: 1.2;\n",
       "  margin: 1.1em 0em 0.5em;\n",
       "  }\n",
       "\n",
       ".rendered_html h3\n",
       "{\n",
       "  font-size: 100%;\n",
       "  line-height: 1.2;\n",
       "  margin: 1.1em 0em 0.5em;\n",
       "  }\n",
       "\n",
       ".rendered_html h5\n",
       "{\n",
       "  font-size: 50%;\n",
       "  line-height: 1;\n",
       "  margin: 0.3em 0em 0.3em;\n",
       "  font-weight: bold;\n",
       "  text-align: center;\n",
       "  }\n",
       "\n",
       ".rendered_html h6\n",
       "{\n",
       "  font-size: 50%;\n",
       "  line-height: 1;\n",
       "  margin: 0.3em 0em 0.3em;\n",
       "  font-weight: normal;\n",
       "  text-align: center;\n",
       "  }\n",
       "\n",
       ".rendered_html li\n",
       "{\n",
       "  line-height: 1.8;\n",
       "  }\n",
       "\n",
       ".input_prompt, .CodeMirror-lines, .output_area\n",
       "{\n",
       "  font-family: Consolas;\n",
       "  font-size: 120%;\n",
       "  }\n",
       "\n",
       ".gap-above\n",
       "{\n",
       "  padding-top: 200px;\n",
       "  }\n",
       "\n",
       ".gap01\n",
       "{\n",
       "  padding-top: 10px;\n",
       "  }\n",
       "\n",
       ".gap05\n",
       "{\n",
       "  padding-top: 50px;\n",
       "  }\n",
       "\n",
       ".gap1\n",
       "{\n",
       "  padding-top: 100px;\n",
       "  }\n",
       "\n",
       ".gap2\n",
       "{\n",
       "  padding-top: 200px;\n",
       "  }\n",
       "\n",
       ".gap3\n",
       "{\n",
       "  padding-top: 300px;\n",
       "  }\n",
       "\n",
       ".emph\n",
       "{\n",
       "  color: #386BBC;\n",
       "  }\n",
       "\n",
       ".strike\n",
       "{\n",
       "  text-decoration:line-through;\n",
       "  color: #94B8F3;\n",
       "  }\n",
       "\n",
       ".warn\n",
       "{\n",
       "  color: red;\n",
       "  }\n",
       "\n",
       ".center\n",
       "{\n",
       "  text-align: center;\n",
       "  }\n",
       "\n",
       ".nb_link\n",
       "{\n",
       "    padding-bottom: 0.5em;\n",
       "}\n",
       "\n",
       "</style>\n"
      ],
      "text/plain": [
       "<IPython.core.display.HTML object>"
      ]
     },
     "metadata": {},
     "output_type": "display_data"
    }
   ],
   "source": [
    "# rerun Fernando's script to load in css\n",
    "%run talktools"
   ]
  },
  {
   "cell_type": "code",
   "execution_count": 2,
   "metadata": {
    "collapsed": false,
    "slideshow": {
     "slide_type": "skip"
    }
   },
   "outputs": [],
   "source": [
    "%matplotlib inline\n",
    "import numpy as np\n",
    "import matplotlib.pyplot as plt\n",
    "from scipy.stats import binom\n",
    "from IPython.display import HTML"
   ]
  },
  {
   "cell_type": "markdown",
   "metadata": {
    "slideshow": {
     "slide_type": "slide"
    }
   },
   "source": [
    "# NIPS\n",
    "\n",
    "* NIPS is premier outlet for machine learning.\n",
    "* Particularly at interface with Neuroscience and Cognitive Science\n"
   ]
  },
  {
   "cell_type": "markdown",
   "metadata": {
    "slideshow": {
     "slide_type": "slide"
    }
   },
   "source": [
    " # NIPS in Numbers\n",
    " * In 2014 NIPS had:<br>\n",
    "1678 submissions<br>\n",
    "414 accepted papers<br>\n",
    "20 oral presentations<br>\n",
    "62 spotlight presentations<br>\n",
    "331 poster presentations<br>\n",
    "19 papers rejected without review<br>"
   ]
  },
  {
   "cell_type": "markdown",
   "metadata": {
    "slideshow": {
     "slide_type": "slide"
    }
   },
   "source": [
    "# NIPS in Numbers\n",
    "* To review papers we had:\n",
    "    * 1474 active reviewers (1133 in 2013)\n",
    "    * 92 area chairs (67 in 2013) \n",
    "    * 2 program chairs"
   ]
  },
  {
   "cell_type": "markdown",
   "metadata": {
    "slideshow": {
     "slide_type": "slide"
    }
   },
   "source": [
    "# The NIPS Experiment\n",
    "\n",
    "* How consistent was the process of peer review? \n",
    "* What would happen if you independently reran it?"
   ]
  },
  {
   "cell_type": "markdown",
   "metadata": {
    "slideshow": {
     "slide_type": "slide"
    }
   },
   "source": [
    "# The NIPS Experiment\n",
    "\n",
    "* We selected ~10% of NIPS papers to be reviewed twice, independently.\n",
    "* 170 papers were reviewed by two separate committees.\n",
    "    * Each committee was 1/2 the size of the full committee.\n",
    "    * Reviewers allocated at random\n",
    "    * Area Chairs allocated to ensure distribution of expertise"
   ]
  },
  {
   "cell_type": "markdown",
   "metadata": {
    "slideshow": {
     "slide_type": "notes"
    }
   },
   "source": [
    "# Notes on the Timeline for NIPS\n",
    "\n",
    "### AC recruitment (3 waves):\n",
    "17/02/2014\n",
    "08/03/2014\n",
    "09/04/2014\n",
    "\n",
    "### We requested names of reviewers from ACs in two waves:\n",
    "25/03/2014\n",
    "11/04/2014\n",
    "\n",
    "### Reviewer recruitment (4 waves):\n",
    "14/04/2014\n",
    "28/04/2014\n",
    "09/05/2014\n",
    "10/06/2014 (note this is after deadline ... lots of area chairs asked for reviewers after the deadline!). We invited them en-masse.\n",
    "\n",
    "- 06/06/2014 Submission Deadline\n",
    "- 12/06/2014 Bidding Open For Area Chairs (this was *delayed* by CMT issues)\n",
    "- 17/06/2014 Bidding Open For Reviewers\n",
    "- 01/07/2014 Start Reviewing\n",
    "- 21/07/2014 Reviewing deadline\n",
    "- 04/08/2014 Reviews to Authors\n",
    "- 11/08/2014 Author Rebuttal Due\n",
    "- 25/08/2014 Teleconferences Begin\n",
    "- 30/08/2014 Teleconferences End\n",
    "- 1/09/2014 Preliminary Decisions Made\n",
    "- 9/09/2014 Decisions Sent to Authors\n"
   ]
  },
  {
   "cell_type": "markdown",
   "metadata": {
    "slideshow": {
     "slide_type": "slide"
    }
   },
   "source": [
    "# Decision Making Timeline\n",
    "Deadline 6th June\n",
    "1. three weeks for paper *bidding* and allocation\n",
    "2. three weeks for *review*\n",
    "3. two weeks for discussion and *adding/augmenting* reviews/reviewers\n",
    "4. one week for *author rebuttal*\n",
    "5. two weeks for *discussion* \n",
    "6. one week for *teleconferences* and *final decisons*\n",
    "7. one week cooling off \n",
    "\n",
    "Decisions sent 9th September"
   ]
  },
  {
   "cell_type": "markdown",
   "metadata": {
    "slideshow": {
     "slide_type": "slide"
    }
   },
   "source": [
    "# Speculation\n",
    "\n",
    "* To check public opinion before experiment: [scicast question](https://scicast.org/#!/questions/1083/comments/power)"
   ]
  },
  {
   "cell_type": "markdown",
   "metadata": {
    "slideshow": {
     "slide_type": "slide"
    }
   },
   "source": [
    "## Results\n",
    "\n",
    "<table>\n",
    "  <tr>\n",
    "  <td colspan=\"2\"></td><td colspan=\"2\">Committee 1</td>\n",
    "  </tr>\n",
    "  <tr>\n",
    "  <td colspan=\"2\"></td><td>Accept</td><td>Reject</td>\n",
    "  </tr>\n",
    "  <tr>\n",
    "    <td rowspan=\"2\">Committee 2</td><td>Accept</td><td>22</td><td>22</td>\n",
    "  </tr>\n",
    "  <tr>\n",
    "    <td>Reject</td><td>21</td><td>101</td>\n",
    "  </tr>\n",
    "</table>\n",
    "\n",
    "4 papers rejected or withdrawn without review."
   ]
  },
  {
   "cell_type": "markdown",
   "metadata": {
    "slideshow": {
     "slide_type": "slide"
    }
   },
   "source": [
    "# Summarizing the Table\n",
    "* *inconsistency*: 43/166 = **0.259**\n",
    "    * proportion of decisions that were not the same\n",
    "* *accept precision* $0.5 \\times 22/44$ + $0.5 \\times 21/43$ = **0.495**\n",
    "    * probability any accepted paper would be rejected in a rerunning\n",
    "* *reject precision* = $0.5\\times 101/(22+101)$ + $0.5\\times 101/(21 + 101)$ = **0.175**\n",
    "    * probability any rejected paper would be rejected in a rerunning\n",
    "* *agreed accept rate* = 22/101 = **0.218**\n",
    "    * ratio between aggreed accepted papers and agreed rejected papers."
   ]
  },
  {
   "cell_type": "markdown",
   "metadata": {
    "slideshow": {
     "slide_type": "slide"
    }
   },
   "source": [
    "# Reaction After Experiment\n",
    "\n",
    "* Public reaction after experiment [documented here](http://inverseprobability.com/2015/01/16/blogs-on-the-nips-experiment/)\n",
    "\n",
    "* [Open Data Science](http://inverseprobability.com/2014/07/01/open-data-science/) (see Heidelberg Meeting)\n",
    "\n",
    "* NIPS was run in a very open way. [Code](https://github.com/sods/conference) and [blog posts](http://inverseprobability.com/2014/12/16/the-nips-experiment/) all available! \n",
    "\n",
    "* Reaction triggered by [this blog post](http://blog.mrtz.org/2014/12/15/the-nips-experiment.html). \n",
    "\n"
   ]
  },
  {
   "cell_type": "markdown",
   "metadata": {
    "slideshow": {
     "slide_type": "slide"
    }
   },
   "source": [
    "# A Random Committee @ 25%\n",
    "\n",
    "<table>\n",
    "  <tr>\n",
    "  <td colspan=\"2\"></td><td colspan=\"2\">Committee 1</td>\n",
    "  </tr>\n",
    "  <tr>\n",
    "  <td colspan=\"2\"></td><td>Accept</td><td>Reject</td>\n",
    "  </tr>\n",
    "  <tr>\n",
    "    <td rowspan=\"2\">Committee 2</td><td>Accept</td><td>10.4 (1 in 16)</td><td>31.1 (3 in 16)</td>\n",
    "  </tr>\n",
    "  <tr>\n",
    "    <td>Reject</td><td>31.1 (3 in 16) </td><td>93.4 (9 in 16)</td>\n",
    "  </tr>\n",
    "</table>"
   ]
  },
  {
   "cell_type": "markdown",
   "metadata": {
    "slideshow": {
     "slide_type": "slide"
    }
   },
   "source": [
    "# Stats for Random Committee\n",
    "\n",
    "For random committee we expect:\n",
    "* *inconsistency* of 3 in 8 (37.5%) \n",
    "* *accept precision* of 1 in 4 (25%) \n",
    "* *reject precision* of 3 in 4 (75%) and a \n",
    "* *agreed accept rate* of 1 in 10 (10%). \n",
    "\n",
    "Actual committee's accept precision markedly better with 50% accept precision."
   ]
  },
  {
   "cell_type": "markdown",
   "metadata": {
    "slideshow": {
     "slide_type": "slide"
    }
   },
   "source": [
    "# Uncertainty: Accept Rate"
   ]
  },
  {
   "cell_type": "code",
   "execution_count": 3,
   "metadata": {
    "collapsed": false
   },
   "outputs": [
    {
     "data": {
      "text/html": [
       "<h3>Number of Accepted Papers for p = 0.23</h3>"
      ],
      "text/plain": [
       "<IPython.core.display.HTML object>"
      ]
     },
     "metadata": {},
     "output_type": "display_data"
    },
    {
     "data": {
      "image/png": "[encoded data removed]",
      "text/plain": [
       "<matplotlib.figure.Figure at 0x10d253510>"
      ]
     },
     "metadata": {},
     "output_type": "display_data"
    }
   ],
   "source": [
    "rv = binom(340, 0.23)\n",
    "\n",
    "x = np.arange(60, 120)\n",
    "fig, ax = plt.subplots(figsize=(10,5))\n",
    "ax.bar(x, rv.pmf(x))\n",
    "display(HTML('<h3>Number of Accepted Papers for p = 0.23</h3>'))\n",
    "ax.axvline(87,linewidth=4, color='red') \n",
    "plt.show()"
   ]
  },
  {
   "cell_type": "markdown",
   "metadata": {
    "slideshow": {
     "slide_type": "slide"
    }
   },
   "source": [
    "# Uncertainty: Accept Precision\n",
    "\n",
    "* How reliable is the consistent accept score?"
   ]
  },
  {
   "cell_type": "code",
   "execution_count": 4,
   "metadata": {
    "collapsed": false
   },
   "outputs": [
    {
     "data": {
      "text/html": [
       "<h3>Number of Consistent Accepts given p=0.13</h3>"
      ],
      "text/plain": [
       "<IPython.core.display.HTML object>"
      ]
     },
     "metadata": {},
     "output_type": "display_data"
    },
    {
     "data": {
      "image/png": "[encoded data removed]",
      "text/plain": [
       "<matplotlib.figure.Figure at 0x10d3b8d50>"
      ]
     },
     "metadata": {},
     "output_type": "display_data"
    }
   ],
   "source": [
    "rv = binom(166, 0.13)\n",
    "x = np.arange(10, 30)\n",
    "fig, ax = plt.subplots(figsize=(10,5))\n",
    "ax.bar(x, rv.pmf(x))\n",
    "display(HTML('<h3>Number of Consistent Accepts given p=0.13</h3>'))\n",
    "ax.axvline(22,linewidth=4, color='red') \n",
    "plt.show()"
   ]
  },
  {
   "cell_type": "markdown",
   "metadata": {
    "slideshow": {
     "slide_type": "slide"
    }
   },
   "source": [
    "# Bayesian Analysis\n",
    "* Multinomial distribution three outcomes.\n",
    "* Uniform Dirichlet prior.\n",
    "    * (doesn't account for implausability of 'active inconsistency')"
   ]
  },
  {
   "cell_type": "code",
   "execution_count": 5,
   "metadata": {
    "collapsed": false,
    "slideshow": {
     "slide_type": "skip"
    }
   },
   "outputs": [
    {
     "data": {
      "text/html": [
       "<h4>Probability of consistent accept 0.136094674556+/-0.0600011464859</h4>"
      ],
      "text/plain": [
       "<IPython.core.display.HTML object>"
      ]
     },
     "metadata": {},
     "output_type": "display_data"
    },
    {
     "data": {
      "text/html": [
       "<h4>Probability of inconsistent decision 0.260355029586+/-0.087455352832</h4>"
      ],
      "text/plain": [
       "<IPython.core.display.HTML object>"
      ]
     },
     "metadata": {},
     "output_type": "display_data"
    },
    {
     "data": {
      "text/html": [
       "<h4>Probability of consistent reject 0.603550295858+/-0.150347100243</h4>"
      ],
      "text/plain": [
       "<IPython.core.display.HTML object>"
      ]
     },
     "metadata": {},
     "output_type": "display_data"
    }
   ],
   "source": [
    "def posterior_mean_var(k, alpha):\n",
    "    \"\"\"Compute the mean and variance of the Dirichlet posterior.\"\"\"\n",
    "    alpha_0 = alpha.sum()\n",
    "    n = k.sum()\n",
    "    m = (k + alpha)\n",
    "    m /= m.sum()\n",
    "    v = (alpha+k)*(alpha_0 - alpha + n + k)/((alpha_0+n)**2*(alpha_0+n+1))\n",
    "    return m, v\n",
    "\n",
    "k = np.asarray([22, 43, 101])\n",
    "alpha = np.ones((3,))\n",
    "m, v = posterior_mean_var(k, alpha)\n",
    "outcome = ['consistent accept', 'inconsistent decision', 'consistent reject']\n",
    "for i in range(3):\n",
    "    display(HTML(\"<h4>Probability of \" + outcome[i] +' ' + str(m[i]) +  \"+/-\" + str(2*np.sqrt(v[i])) + \"</h4>\"))\n"
   ]
  },
  {
   "cell_type": "code",
   "execution_count": 6,
   "metadata": {
    "collapsed": false,
    "slideshow": {
     "slide_type": "skip"
    }
   },
   "outputs": [
    {
     "name": "stdout",
     "output_type": "stream",
     "text": [
      "0.508753122542 +/- 0.128980361541\n",
      "0.822081388624 +/- 0.0531283853908\n",
      "0.184137068656 +/- 0.0694158213505\n"
     ]
    }
   ],
   "source": [
    "def sample_precisions(k, alpha, num_samps):\n",
    "    \"\"\"Helper function to sample from the posterior distibution of accept, \n",
    "    reject and inconsistent probabilities and compute other statistics of interest \n",
    "    from the samples.\"\"\"\n",
    "\n",
    "    k = np.random.dirichlet(k+alpha, size=num_samps)\n",
    "    # Factors of 2 appear because inconsistent decisions \n",
    "    # are being accounted for across both committees.\n",
    "    ap = 2*k[:, 0]/(2*k[:, 0]+k[:, 1])\n",
    "    rp = 2*k[:, 2]/(k[:, 1]+2*k[:, 2])\n",
    "    aa = k[:, 0]/(k[:, 0]+k[:, 2])\n",
    "    return ap, rp, aa\n",
    "\n",
    "ap, rp, aa = sample_precisions(k, alpha, 10000)\n",
    "print ap.mean(), '+/-', 2*np.sqrt(ap.var())\n",
    "print rp.mean(), '+/-', 2*np.sqrt(rp.var())\n",
    "print aa.mean(), '+/-', 2*np.sqrt(aa.var())\n"
   ]
  },
  {
   "cell_type": "code",
   "execution_count": 7,
   "metadata": {
    "collapsed": false
   },
   "outputs": [
    {
     "data": {
      "text/plain": [
       "<matplotlib.lines.Line2D at 0x10dd28910>"
      ]
     },
     "execution_count": 7,
     "metadata": {},
     "output_type": "execute_result"
    },
    {
     "data": {
      "image/png": "[encoded data removed]",
      "text/plain": [
       "<matplotlib.figure.Figure at 0x10d573ed0>"
      ]
     },
     "metadata": {},
     "output_type": "display_data"
    }
   ],
   "source": [
    "fig, ax = plt.subplots(1, 3, figsize=(15, 5))\n",
    "_ = ax[0].hist(ap, 20)\n",
    "_ = ax[0].set_title('Accept Precision')\n",
    "ax[0].axvline(0.25, linewidth=4)\n",
    "_ = ax[1].hist(rp, 20)\n",
    "_ = ax[1].set_title('Reject Precision')\n",
    "ax[1].axvline(0.75, linewidth=4)\n",
    "_ = ax[2].hist(aa, 20)\n",
    "_ = ax[2].set_title('Agreed Accept Rate')\n",
    "ax[2].axvline(0.10, linewidth=4)"
   ]
  },
  {
   "cell_type": "markdown",
   "metadata": {
    "slideshow": {
     "slide_type": "slide"
    }
   },
   "source": [
    "# Conclusion\n",
    "\n",
    "* For parallel-universe NIPS we expect between 38% and 64% of the presented papers to be the same. \n",
    "* For random-parallel-universe NIPS we only expect 25% of the papers to be the same."
   ]
  },
  {
   "cell_type": "markdown",
   "metadata": {
    "slideshow": {
     "slide_type": "slide"
    }
   },
   "source": [
    "# Discussion \n",
    "* Error types:\n",
    "    * type I error as accepting a paper which should be rejected.\n",
    "    * type II error rejecting a paper should be accepted.\n",
    "* Controlling for error:\n",
    "    * many reviewer discussions can be summarised as *subjective* opinions about whether controlling for type I or type II is more important.\n",
    "    * with low accept rates, type I errors are *much* more common.\n",
    "* Normally in such discussions we believe there is a clear underlying boundary.\n",
    "* For conferences there is no clear separation points, there is a spectrum of paper quality.\n",
    "* Should be explored alongside *paper scores*."
   ]
  },
  {
   "cell_type": "code",
   "execution_count": null,
   "metadata": {
    "collapsed": true
   },
   "outputs": [],
   "source": []
  }
 ],
 "metadata": {
  "kernelspec": {
   "display_name": "Python 2",
   "language": "python",
   "name": "python2"
  },
  "language_info": {
   "codemirror_mode": {
    "name": "ipython",
    "version": 2
   },
   "file_extension": ".py",
   "mimetype": "text/x-python",
   "name": "python",
   "nbconvert_exporter": "python",
   "pygments_lexer": "ipython2",
   "version": "2.7.6"
  }
 },
 "nbformat": 4,
 "nbformat_minor": 0
}
